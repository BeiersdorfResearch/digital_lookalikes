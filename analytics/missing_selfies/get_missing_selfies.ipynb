{
 "cells": [
  {
   "cell_type": "code",
   "execution_count": 1,
   "metadata": {},
   "outputs": [
    {
     "name": "stdout",
     "output_type": "stream",
     "text": [
      "Mon Oct 30 08:53:16 UTC 2023\n"
     ]
    }
   ],
   "source": [
    "!date"
   ]
  },
  {
   "cell_type": "code",
   "execution_count": 2,
   "metadata": {},
   "outputs": [
    {
     "name": "stderr",
     "output_type": "stream",
     "text": [
      "2023-11-01 12:22:59.788680: I tensorflow/core/platform/cpu_feature_guard.cc:182] This TensorFlow binary is optimized to use available CPU instructions in performance-critical operations.\n",
      "To enable the following instructions: SSE4.1 SSE4.2 AVX AVX2 FMA, in other operations, rebuild TensorFlow with the appropriate compiler flags.\n"
     ]
    }
   ],
   "source": [
    "import pandas as pd\n",
    "import numpy as np\n",
    "import plotly.express as px\n",
    "from deepface import DeepFace\n",
    "from pathlib import Path\n",
    "import cv2\n",
    "import os\n",
    "from azure.identity import ManagedIdentityCredential\n",
    "from dl_conn import get_dl_conn\n",
    "from dl_orm import DLorm"
   ]
  },
  {
   "cell_type": "markdown",
   "metadata": {},
   "source": [
    "If there is the impression that there are missing selfies, i.e. there isn't three selfies per user available, you can run this notebook the check how many selfies are missing and of whom.\n",
    "To fix this, you can run the script in '../../src/data/missing_selfies.py'"
   ]
  },
  {
   "cell_type": "code",
   "execution_count": 3,
   "metadata": {},
   "outputs": [],
   "source": [
    "# we run over all users in the selfies_dir and check whether they have less than two pictures, if so we add them to the list including the amount of selfies\n",
    "def list_files_with_extension(directory, extension):\n",
    "    files = []\n",
    "    for filename in os.listdir(directory):\n",
    "        if filename.endswith(extension):\n",
    "            files.append(os.path.join(directory, filename))\n",
    "    return files\n",
    "\n",
    "selfies_dir = Path('../../src/data/selfies')\n",
    "users_selfie_paths = []\n",
    "for user in selfies_dir.glob('*'):\n",
    "    selfies = [user] + list_files_with_extension(user, '.jpg')\n",
    "    users_selfie_paths.append(selfies)"
   ]
  },
  {
   "cell_type": "code",
   "execution_count": null,
   "metadata": {},
   "outputs": [],
   "source": []
  },
  {
   "cell_type": "code",
   "execution_count": 4,
   "metadata": {},
   "outputs": [
    {
     "data": {
      "text/html": [
       "<div>\n",
       "<style scoped>\n",
       "    .dataframe tbody tr th:only-of-type {\n",
       "        vertical-align: middle;\n",
       "    }\n",
       "\n",
       "    .dataframe tbody tr th {\n",
       "        vertical-align: top;\n",
       "    }\n",
       "\n",
       "    .dataframe thead th {\n",
       "        text-align: right;\n",
       "    }\n",
       "</style>\n",
       "<table border=\"1\" class=\"dataframe\">\n",
       "  <thead>\n",
       "    <tr style=\"text-align: right;\">\n",
       "      <th></th>\n",
       "      <th>user_id</th>\n",
       "      <th>selfie1</th>\n",
       "      <th>selfie2</th>\n",
       "      <th>selfie3</th>\n",
       "      <th>selfie_link_id_1</th>\n",
       "      <th>selfie_link_id_2</th>\n",
       "      <th>selfie_link_id_3</th>\n",
       "      <th>missing_count</th>\n",
       "    </tr>\n",
       "  </thead>\n",
       "  <tbody>\n",
       "  </tbody>\n",
       "</table>\n",
       "</div>"
      ],
      "text/plain": [
       "Empty DataFrame\n",
       "Columns: [user_id, selfie1, selfie2, selfie3, selfie_link_id_1, selfie_link_id_2, selfie_link_id_3, missing_count]\n",
       "Index: []"
      ]
     },
     "execution_count": 4,
     "metadata": {},
     "output_type": "execute_result"
    }
   ],
   "source": [
    "df_selfiepaths = pd.DataFrame(users_selfie_paths, columns=['user_id', 'selfie1', 'selfie2', 'selfie3'])\n",
    "df_selfiepaths['user_id'] = df_selfiepaths['user_id'].apply(lambda x : os.path.basename(x)).astype(int)\n",
    "df_selfiepaths['selfie_link_id_1'] = df_selfiepaths['selfie1'].apply(lambda x : os.path.basename(x).split('_',1)[1].split('.')[0] if isinstance(x, str) else None)\n",
    "df_selfiepaths['selfie_link_id_2'] = df_selfiepaths['selfie2'].apply(lambda x : os.path.basename(x).split('_',1)[1].split('.')[0] if isinstance(x, str) else None)\n",
    "df_selfiepaths['selfie_link_id_3'] = df_selfiepaths['selfie3'].apply(lambda x : os.path.basename(x).split('_',1)[1].split('.')[0] if isinstance(x, str) else None)\n",
    "df_selfiepaths['missing_count'] = df_selfiepaths[['selfie1', 'selfie2', 'selfie3']].isnull().sum(axis=1)\n",
    "users_missing_selfies = df_selfiepaths[df_selfiepaths['missing_count']>0]\n",
    "users_missing_selfies.head()"
   ]
  },
  {
   "cell_type": "code",
   "execution_count": 9,
   "metadata": {},
   "outputs": [
    {
     "data": {
      "text/plain": [
       "[0, 0, 0, 0]"
      ]
     },
     "execution_count": 9,
     "metadata": {},
     "output_type": "execute_result"
    }
   ],
   "source": [
    "# number of users missing selfies, missing exactly three/two/one selfie\n",
    "[users_missing_selfies.user_id.nunique(), \n",
    "users_missing_selfies[users_missing_selfies.missing_count == 3].user_id.nunique(), \n",
    "users_missing_selfies[users_missing_selfies.missing_count == 2].user_id.nunique(), \n",
    "users_missing_selfies[users_missing_selfies.missing_count == 1].user_id.nunique()]"
   ]
  }
 ],
 "metadata": {
  "kernelspec": {
   "display_name": "digital-twin-env",
   "language": "python",
   "name": "python3"
  },
  "language_info": {
   "codemirror_mode": {
    "name": "ipython",
    "version": 3
   },
   "file_extension": ".py",
   "mimetype": "text/x-python",
   "name": "python",
   "nbconvert_exporter": "python",
   "pygments_lexer": "ipython3",
   "version": "3.11.4"
  },
  "orig_nbformat": 4
 },
 "nbformat": 4,
 "nbformat_minor": 2
}
